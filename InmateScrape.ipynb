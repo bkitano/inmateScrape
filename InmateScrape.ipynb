{
 "cells": [
  {
   "cell_type": "code",
   "execution_count": 49,
   "metadata": {},
   "outputs": [],
   "source": [
    "import requests\n",
    "from multiprocessing import Pool\n",
    "import boto3\n",
    "\n",
    "# set up db\n",
    "db = boto3.resource('dynamodb', region_name = 'us-east-2')\n",
    "table = db.Table('Inmates')"
   ]
  },
  {
   "cell_type": "markdown",
   "metadata": {},
   "source": [
    "Plan\n",
    "1. Use lambda to make calls in parallel? \n",
    "2. Store responses in Amazon Aurora"
   ]
  },
  {
   "cell_type": "code",
   "execution_count": 40,
   "metadata": {},
   "outputs": [],
   "source": [
    "response = requests.get(\"https://www.bop.gov/PublicInfo/execute/inmateloc?todo=query&output=json&inmateNum=11111-001&inmateNumType=IRN\")\n"
   ]
  },
  {
   "cell_type": "code",
   "execution_count": 65,
   "metadata": {},
   "outputs": [
    {
     "data": {
      "text/plain": [
       "{'InmateLocator': [],\n",
       " 'Captcha': False,\n",
       " 'Messages': {},\n",
       " 'FormToken': 'pub26740info'}"
      ]
     },
     "execution_count": 65,
     "metadata": {},
     "output_type": "execute_result"
    }
   ],
   "source": [
    "params = {'todo': 'query', 'output': 'json', 'inmateNum': '69695-798', 'inmateNumType': 'IRN'}\n",
    "response = requests.get(\"https://www.bop.gov/PublicInfo/execute/inmateloc\", params)\n",
    "response.json()"
   ]
  },
  {
   "cell_type": "code",
   "execution_count": 53,
   "metadata": {},
   "outputs": [],
   "source": [
    "def sendGuess(params):\n",
    "    inmateId = params['inmateId']\n",
    "    regionId = params['regionId']\n",
    "    \n",
    "    inmateNum = '{0}-{1}'.format(str(inmateId)[1:], str(regionId)[1:])\n",
    "    params = {\n",
    "        'todo': 'query', \n",
    "        'output': 'json', \n",
    "        'inmateNum': inmateNum, \n",
    "        'inmateNumType': 'IRN'\n",
    "    }\n",
    "    response = requests.get(\"https://www.bop.gov/PublicInfo/execute/inmateloc\", params)\n",
    "\n",
    "    body = response.json()\n",
    "    data = body['InmateLocator']\n",
    "    if len(data):\n",
    "        inmate = data[0]\n",
    "        return inmate\n",
    "    else: \n",
    "        return None\n",
    "    "
   ]
  },
  {
   "cell_type": "code",
   "execution_count": 43,
   "metadata": {},
   "outputs": [],
   "source": [
    "def transformApi(inmate):\n",
    "    data = inmate\n",
    "    data['region'] = inmate['inmateNum'].split('-')[-1]\n",
    "    return data\n",
    "            \n",
    "    "
   ]
  },
  {
   "cell_type": "code",
   "execution_count": 44,
   "metadata": {},
   "outputs": [],
   "source": [
    "def writeToTable(entry):\n",
    "    with table.batch_writer() as batch:\n",
    "        batch.put_item(Item=entry)"
   ]
  },
  {
   "cell_type": "code",
   "execution_count": 54,
   "metadata": {},
   "outputs": [],
   "source": [
    "def handleGuess(params):\n",
    "    response = sendGuess(params)\n",
    "    if response is not None:\n",
    "        payload = transformApi(response)\n",
    "        writeToTable(payload)"
   ]
  },
  {
   "cell_type": "code",
   "execution_count": 59,
   "metadata": {},
   "outputs": [],
   "source": [
    "def parallelGuessRange(params, process_count=4):\n",
    "    inmateMin = params['inmateMin']\n",
    "    inmateMax = params['inmateMax']\n",
    "    regionNum = params['regionNum']\n",
    "        \n",
    "    # need to make a list which generates a search query\n",
    "    batch = [\n",
    "        {\n",
    "            'inmateId': inmateId,\n",
    "            'regionId': regionNum,\n",
    "        } for inmateId in range(inmateMin, inmateMax)\n",
    "    ]\n",
    "    \n",
    "    pool = Pool(processes = 4)\n",
    "    pool.map(handleGuess, batch)"
   ]
  },
  {
   "cell_type": "code",
   "execution_count": 62,
   "metadata": {},
   "outputs": [
    {
     "name": "stdout",
     "output_type": "stream",
     "text": [
      "[{'inmateId': 100001, 'regionId': 1000}, {'inmateId': 100002, 'regionId': 1000}, {'inmateId': 100003, 'regionId': 1000}, {'inmateId': 100004, 'regionId': 1000}, {'inmateId': 100005, 'regionId': 1000}, {'inmateId': 100006, 'regionId': 1000}, {'inmateId': 100007, 'regionId': 1000}, {'inmateId': 100008, 'regionId': 1000}, {'inmateId': 100009, 'regionId': 1000}, {'inmateId': 100010, 'regionId': 1000}, {'inmateId': 100011, 'regionId': 1000}, {'inmateId': 100012, 'regionId': 1000}, {'inmateId': 100013, 'regionId': 1000}, {'inmateId': 100014, 'regionId': 1000}, {'inmateId': 100015, 'regionId': 1000}, {'inmateId': 100016, 'regionId': 1000}, {'inmateId': 100017, 'regionId': 1000}, {'inmateId': 100018, 'regionId': 1000}, {'inmateId': 100019, 'regionId': 1000}, {'inmateId': 100020, 'regionId': 1000}, {'inmateId': 100021, 'regionId': 1000}, {'inmateId': 100022, 'regionId': 1000}, {'inmateId': 100023, 'regionId': 1000}, {'inmateId': 100024, 'regionId': 1000}, {'inmateId': 100025, 'regionId': 1000}, {'inmateId': 100026, 'regionId': 1000}, {'inmateId': 100027, 'regionId': 1000}, {'inmateId': 100028, 'regionId': 1000}, {'inmateId': 100029, 'regionId': 1000}, {'inmateId': 100030, 'regionId': 1000}, {'inmateId': 100031, 'regionId': 1000}, {'inmateId': 100032, 'regionId': 1000}, {'inmateId': 100033, 'regionId': 1000}, {'inmateId': 100034, 'regionId': 1000}, {'inmateId': 100035, 'regionId': 1000}, {'inmateId': 100036, 'regionId': 1000}, {'inmateId': 100037, 'regionId': 1000}, {'inmateId': 100038, 'regionId': 1000}, {'inmateId': 100039, 'regionId': 1000}, {'inmateId': 100040, 'regionId': 1000}, {'inmateId': 100041, 'regionId': 1000}, {'inmateId': 100042, 'regionId': 1000}, {'inmateId': 100043, 'regionId': 1000}, {'inmateId': 100044, 'regionId': 1000}, {'inmateId': 100045, 'regionId': 1000}, {'inmateId': 100046, 'regionId': 1000}, {'inmateId': 100047, 'regionId': 1000}, {'inmateId': 100048, 'regionId': 1000}, {'inmateId': 100049, 'regionId': 1000}, {'inmateId': 100050, 'regionId': 1000}, {'inmateId': 100051, 'regionId': 1000}, {'inmateId': 100052, 'regionId': 1000}, {'inmateId': 100053, 'regionId': 1000}, {'inmateId': 100054, 'regionId': 1000}, {'inmateId': 100055, 'regionId': 1000}, {'inmateId': 100056, 'regionId': 1000}, {'inmateId': 100057, 'regionId': 1000}, {'inmateId': 100058, 'regionId': 1000}, {'inmateId': 100059, 'regionId': 1000}, {'inmateId': 100060, 'regionId': 1000}, {'inmateId': 100061, 'regionId': 1000}, {'inmateId': 100062, 'regionId': 1000}, {'inmateId': 100063, 'regionId': 1000}, {'inmateId': 100064, 'regionId': 1000}, {'inmateId': 100065, 'regionId': 1000}, {'inmateId': 100066, 'regionId': 1000}, {'inmateId': 100067, 'regionId': 1000}, {'inmateId': 100068, 'regionId': 1000}, {'inmateId': 100069, 'regionId': 1000}, {'inmateId': 100070, 'regionId': 1000}, {'inmateId': 100071, 'regionId': 1000}, {'inmateId': 100072, 'regionId': 1000}, {'inmateId': 100073, 'regionId': 1000}, {'inmateId': 100074, 'regionId': 1000}, {'inmateId': 100075, 'regionId': 1000}, {'inmateId': 100076, 'regionId': 1000}, {'inmateId': 100077, 'regionId': 1000}, {'inmateId': 100078, 'regionId': 1000}, {'inmateId': 100079, 'regionId': 1000}, {'inmateId': 100080, 'regionId': 1000}, {'inmateId': 100081, 'regionId': 1000}, {'inmateId': 100082, 'regionId': 1000}, {'inmateId': 100083, 'regionId': 1000}, {'inmateId': 100084, 'regionId': 1000}, {'inmateId': 100085, 'regionId': 1000}, {'inmateId': 100086, 'regionId': 1000}, {'inmateId': 100087, 'regionId': 1000}, {'inmateId': 100088, 'regionId': 1000}, {'inmateId': 100089, 'regionId': 1000}, {'inmateId': 100090, 'regionId': 1000}, {'inmateId': 100091, 'regionId': 1000}, {'inmateId': 100092, 'regionId': 1000}, {'inmateId': 100093, 'regionId': 1000}, {'inmateId': 100094, 'regionId': 1000}, {'inmateId': 100095, 'regionId': 1000}, {'inmateId': 100096, 'regionId': 1000}, {'inmateId': 100097, 'regionId': 1000}, {'inmateId': 100098, 'regionId': 1000}, {'inmateId': 100099, 'regionId': 1000}]\n"
     ]
    }
   ],
   "source": [
    "parallelGuessRange({\n",
    "        'inmateMin': 100001,\n",
    "        'inmateMax': 100100,\n",
    "        'regionNum': 1000\n",
    "    })"
   ]
  },
  {
   "cell_type": "code",
   "execution_count": 64,
   "metadata": {},
   "outputs": [
    {
     "data": {
      "text/plain": [
       "2"
      ]
     },
     "execution_count": 64,
     "metadata": {},
     "output_type": "execute_result"
    }
   ],
   "source": [
    "mp.cpu_count()"
   ]
  },
  {
   "cell_type": "code",
   "execution_count": null,
   "metadata": {},
   "outputs": [],
   "source": []
  }
 ],
 "metadata": {
  "kernelspec": {
   "display_name": "conda_python3",
   "language": "python",
   "name": "conda_python3"
  },
  "language_info": {
   "codemirror_mode": {
    "name": "ipython",
    "version": 3
   },
   "file_extension": ".py",
   "mimetype": "text/x-python",
   "name": "python",
   "nbconvert_exporter": "python",
   "pygments_lexer": "ipython3",
   "version": "3.6.10"
  }
 },
 "nbformat": 4,
 "nbformat_minor": 4
}
