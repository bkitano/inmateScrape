{
 "cells": [
  {
   "cell_type": "code",
   "execution_count": 55,
   "metadata": {},
   "outputs": [],
   "source": [
    "import boto3\n",
    "from datetime import datetime\n",
    "\n",
    "logs = boto3.client('logs')"
   ]
  },
  {
   "cell_type": "code",
   "execution_count": 84,
   "metadata": {},
   "outputs": [],
   "source": [
    "start = int(datetime(2020, 6, 20).timestamp()) * 1000\n",
    "end = int(datetime.now().timestamp()) * 1000"
   ]
  },
  {
   "cell_type": "code",
   "execution_count": 85,
   "metadata": {},
   "outputs": [
    {
     "data": {
      "text/plain": [
       "1592611200000"
      ]
     },
     "execution_count": 85,
     "metadata": {},
     "output_type": "execute_result"
    }
   ],
   "source": [
    "start"
   ]
  },
  {
   "cell_type": "code",
   "execution_count": 94,
   "metadata": {},
   "outputs": [],
   "source": [
    "response = logs.filter_log_events(\n",
    "    logGroupName='/aws/lambda/guessInmate',\n",
    "    startTime = start,\n",
    "    endTime = end,\n",
    ")"
   ]
  },
  {
   "cell_type": "code",
   "execution_count": 95,
   "metadata": {},
   "outputs": [],
   "source": [
    "events = response['events']"
   ]
  },
  {
   "cell_type": "code",
   "execution_count": 97,
   "metadata": {},
   "outputs": [],
   "source": [
    "while True:\n",
    "    response = logs.filter_log_events(\n",
    "        logGroupName='/aws/lambda/guessInmate',\n",
    "        startTime = start,\n",
    "        endTime = end,\n",
    "        nextToken=response['nextToken']\n",
    "    )\n",
    "    \n",
    "    if 'nextToken' not in response:\n",
    "        break\n",
    "    else:\n",
    "        events += response['events']"
   ]
  },
  {
   "cell_type": "code",
   "execution_count": 108,
   "metadata": {},
   "outputs": [],
   "source": [
    "with open('./events.p', 'wb') as fp:\n",
    "    pickle.dump(events, fp)"
   ]
  },
  {
   "cell_type": "markdown",
   "metadata": {},
   "source": [
    "## get all the failures"
   ]
  },
  {
   "cell_type": "code",
   "execution_count": 1,
   "metadata": {},
   "outputs": [],
   "source": [
    "import pickle\n",
    "import requests"
   ]
  },
  {
   "cell_type": "code",
   "execution_count": 2,
   "metadata": {},
   "outputs": [],
   "source": [
    "with open('./events.p', 'rb') as fp:\n",
    "    logs = pickle.load(fp)"
   ]
  },
  {
   "cell_type": "code",
   "execution_count": 3,
   "metadata": {},
   "outputs": [],
   "source": [
    "fails = list(\n",
    "    filter(\n",
    "        lambda s: 'FAIL' in s, [l['message'] for l in logs]))"
   ]
  },
  {
   "cell_type": "code",
   "execution_count": 4,
   "metadata": {},
   "outputs": [],
   "source": [
    "ids = list(map(lambda s: s.split(':')[-1].split('\\n')[0].strip(), fails))"
   ]
  },
  {
   "cell_type": "code",
   "execution_count": 5,
   "metadata": {},
   "outputs": [],
   "source": [
    "endpoint = 'https://cwuo75bqj2.execute-api.us-east-2.amazonaws.com/guessInmate'"
   ]
  },
  {
   "cell_type": "code",
   "execution_count": 6,
   "metadata": {},
   "outputs": [
    {
     "data": {
      "text/plain": [
       "'02400-080'"
      ]
     },
     "execution_count": 6,
     "metadata": {},
     "output_type": "execute_result"
    }
   ],
   "source": [
    "ids[0]"
   ]
  },
  {
   "cell_type": "code",
   "execution_count": 7,
   "metadata": {},
   "outputs": [],
   "source": [
    "import random\n",
    "import string\n",
    "import json\n",
    "\n",
    "def get_random_alphanumeric_string(stringLength=8):\n",
    "    lettersAndDigits = string.ascii_letters + string.digits\n",
    "    return ''.join((random.choice(lettersAndDigits) for i in range(stringLength)))"
   ]
  },
  {
   "cell_type": "code",
   "execution_count": 8,
   "metadata": {},
   "outputs": [],
   "source": [
    "def createSingleRequest(_id):\n",
    "    inmateMin = _id.split('-')[0] # actual num\n",
    "    regionNum = _id.split('-')[1] # actual region\n",
    "\n",
    "    # get the range\n",
    "    inmateMin = int(inmateMin) + 100000\n",
    "    inmateMax = int(inmateMin) + 100001\n",
    "    regionNum = int(regionNum) + 1000\n",
    "    \n",
    "    # pad the strings\n",
    "    paddedInmateMin = \"{}\".format(inmateMin)\n",
    "    paddedInmateMax = \"{}\".format(inmateMax)\n",
    "    paddedRegionNum = \"{}\".format(regionNum)\n",
    "\n",
    "    \n",
    "    params = {\n",
    "        \"Id\": get_random_alphanumeric_string(12),\n",
    "        \"MessageBody\" : json.dumps({\n",
    "            \"inmateMin\": paddedInmateMin,\n",
    "            \"inmateMax\": paddedInmateMax,\n",
    "            \"regionNum\": paddedRegionNum\n",
    "        })\n",
    "    }\n",
    "\n",
    "    return params"
   ]
  },
  {
   "cell_type": "code",
   "execution_count": 9,
   "metadata": {},
   "outputs": [],
   "source": [
    "batches = [createSingleRequest(_id) for _id in ids]"
   ]
  },
  {
   "cell_type": "code",
   "execution_count": 10,
   "metadata": {},
   "outputs": [],
   "source": [
    "import boto3\n",
    "sqs = boto3.client('sqs')\n",
    "dir(sqs)\n",
    "\n",
    "queueUrl = \"https://us-east-2.queue.amazonaws.com/712505641269/inmateBatching\""
   ]
  },
  {
   "cell_type": "code",
   "execution_count": 13,
   "metadata": {},
   "outputs": [
    {
     "data": {
      "text/plain": [
       "{'Successful': [{'Id': 'Z6zwrf2bSEaP',\n",
       "   'MessageId': 'ff6d6a86-c531-4aed-8057-8a17c032b37a',\n",
       "   'MD5OfMessageBody': 'd80373b3cabd78de78a3edc8056bb845'}],\n",
       " 'ResponseMetadata': {'RequestId': '6f5463e2-703f-5454-84be-349f81fdac03',\n",
       "  'HTTPStatusCode': 200,\n",
       "  'HTTPHeaders': {'x-amzn-requestid': '6f5463e2-703f-5454-84be-349f81fdac03',\n",
       "   'date': 'Tue, 07 Jul 2020 03:44:02 GMT',\n",
       "   'content-type': 'text/xml',\n",
       "   'content-length': '478'},\n",
       "  'RetryAttempts': 0}}"
      ]
     },
     "execution_count": 13,
     "metadata": {},
     "output_type": "execute_result"
    }
   ],
   "source": [
    "sqs.send_message_batch(QueueUrl=queueUrl, Entries=[batches[0]])"
   ]
  },
  {
   "cell_type": "code",
   "execution_count": 14,
   "metadata": {},
   "outputs": [],
   "source": [
    "for i in range(1, len(batches), 10):\n",
    "    sqs.send_message_batch(QueueUrl=queueUrl, Entries=batches[i:i+10])"
   ]
  },
  {
   "cell_type": "code",
   "execution_count": null,
   "metadata": {},
   "outputs": [],
   "source": []
  }
 ],
 "metadata": {
  "kernelspec": {
   "display_name": "conda_python3",
   "language": "python",
   "name": "conda_python3"
  },
  "language_info": {
   "codemirror_mode": {
    "name": "ipython",
    "version": 3
   },
   "file_extension": ".py",
   "mimetype": "text/x-python",
   "name": "python",
   "nbconvert_exporter": "python",
   "pygments_lexer": "ipython3",
   "version": "3.6.5"
  }
 },
 "nbformat": 4,
 "nbformat_minor": 4
}
