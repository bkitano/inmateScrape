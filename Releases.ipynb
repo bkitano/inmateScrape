{
 "cells": [
  {
   "cell_type": "code",
   "execution_count": 1,
   "metadata": {},
   "outputs": [],
   "source": [
    "import pandas as pd\n",
    "import numpy as np\n",
    "import re\n",
    "import seaborn as sns\n",
    "import matplotlib.pyplot as plt\n",
    "import datetime\n",
    "\n",
    "sns.set()\n",
    "today = datetime.datetime.today()"
   ]
  },
  {
   "cell_type": "code",
   "execution_count": 2,
   "metadata": {},
   "outputs": [
    {
     "name": "stderr",
     "output_type": "stream",
     "text": [
      "/home/ec2-user/anaconda3/envs/pytorch_p36/lib/python3.6/site-packages/IPython/core/interactiveshell.py:2785: DtypeWarning: Columns (4,6,7,22) have mixed types. Specify dtype option on import or set low_memory=False.\n",
      "  interactivity=interactivity, compiler=compiler, result=result)\n"
     ]
    }
   ],
   "source": [
    "rdf = pd.read_csv('./inmatesWithCoords.csv')"
   ]
  },
  {
   "cell_type": "code",
   "execution_count": 3,
   "metadata": {},
   "outputs": [
    {
     "data": {
      "text/plain": [
       "Index(['Unnamed: 0', 'Unnamed: 0.1', 'actRelDate', 'age', 'faclCode',\n",
       "       'faclName', 'faclType', 'faclURL', 'inmateNum', 'inmateNumType',\n",
       "       'nameFirst', 'nameLast', 'nameMiddle', 'projRelDate', 'race', 'region',\n",
       "       'releaseCode', 'sex', 'suffix', 'inmateId', '_region', 'regionNum',\n",
       "       'gmap_query', 'lat', 'lng', 'address', 'state', 'orientation_y',\n",
       "       'orientation_x'],\n",
       "      dtype='object')"
      ]
     },
     "execution_count": 3,
     "metadata": {},
     "output_type": "execute_result"
    }
   ],
   "source": [
    "rdf.columns"
   ]
  },
  {
   "cell_type": "code",
   "execution_count": 4,
   "metadata": {},
   "outputs": [],
   "source": [
    "df = rdf[[ 'actRelDate', 'age', 'faclCode',\n",
    "       'faclName', 'faclType', 'inmateNum',\n",
    "       'nameFirst', 'nameLast', 'nameMiddle', 'projRelDate', 'race',\n",
    "       'releaseCode', 'sex', 'inmateId',\n",
    "       'lat', 'lng', 'address', 'state', 'orientation_y',\n",
    "       'orientation_x']]"
   ]
  },
  {
   "cell_type": "code",
   "execution_count": 5,
   "metadata": {},
   "outputs": [],
   "source": [
    "releasing_df = df[df['projRelDate'].apply(lambda x: (re.match(r'\\d+/\\d+/\\d+', str(x))) != None)]"
   ]
  },
  {
   "cell_type": "code",
   "execution_count": 6,
   "metadata": {},
   "outputs": [],
   "source": [
    "nonreleasing_df = df[~df['projRelDate'].apply(lambda x: (re.match(r'\\d+/\\d+/\\d+', str(x))) != None)]"
   ]
  },
  {
   "cell_type": "code",
   "execution_count": 7,
   "metadata": {},
   "outputs": [
    {
     "name": "stdout",
     "output_type": "stream",
     "text": [
      "UNKNOWN       50432\n",
      "LIFE            603\n",
      "STATE PRIS       26\n",
      "DEATH SENT       14\n",
      "HOSTRT CMP        6\n",
      "MDD DTER C        2\n",
      "Name: projRelDate, dtype: int64\n"
     ]
    },
    {
     "name": "stderr",
     "output_type": "stream",
     "text": [
      "/home/ec2-user/anaconda3/envs/pytorch_p36/lib/python3.6/site-packages/seaborn/_decorators.py:43: FutureWarning: Pass the following variable as a keyword arg: x. From version 0.12, the only valid positional argument will be `data`, and passing other arguments without an explicit keyword will result in an error or misinterpretation.\n",
      "  FutureWarning\n"
     ]
    },
    {
     "data": {
      "image/png": "[encoded data removed]",
      "text/plain": [
       "<Figure size 432x288 with 1 Axes>"
      ]
     },
     "metadata": {},
     "output_type": "display_data"
    }
   ],
   "source": [
    "sns.countplot(nonreleasing_df['projRelDate'].dropna())\n",
    "print(nonreleasing_df['projRelDate'].value_counts())"
   ]
  },
  {
   "cell_type": "code",
   "execution_count": 8,
   "metadata": {},
   "outputs": [
    {
     "data": {
      "text/html": [
       "<div>\n",
       "<style scoped>\n",
       "    .dataframe tbody tr th:only-of-type {\n",
       "        vertical-align: middle;\n",
       "    }\n",
       "\n",
       "    .dataframe tbody tr th {\n",
       "        vertical-align: top;\n",
       "    }\n",
       "\n",
       "    .dataframe thead th {\n",
       "        text-align: right;\n",
       "    }\n",
       "</style>\n",
       "<table border=\"1\" class=\"dataframe\">\n",
       "  <thead>\n",
       "    <tr style=\"text-align: right;\">\n",
       "      <th></th>\n",
       "      <th>actRelDate</th>\n",
       "      <th>age</th>\n",
       "      <th>faclCode</th>\n",
       "      <th>faclName</th>\n",
       "      <th>faclType</th>\n",
       "      <th>inmateNum</th>\n",
       "      <th>nameFirst</th>\n",
       "      <th>nameLast</th>\n",
       "      <th>nameMiddle</th>\n",
       "      <th>projRelDate</th>\n",
       "      <th>race</th>\n",
       "      <th>releaseCode</th>\n",
       "      <th>sex</th>\n",
       "      <th>inmateId</th>\n",
       "      <th>lat</th>\n",
       "      <th>lng</th>\n",
       "      <th>address</th>\n",
       "      <th>state</th>\n",
       "      <th>orientation_y</th>\n",
       "      <th>orientation_x</th>\n",
       "    </tr>\n",
       "  </thead>\n",
       "  <tbody>\n",
       "    <tr>\n",
       "      <th>316592</th>\n",
       "      <td>NaN</td>\n",
       "      <td>29.0</td>\n",
       "      <td>HAZ</td>\n",
       "      <td>Hazelton</td>\n",
       "      <td>USP</td>\n",
       "      <td>66506-018</td>\n",
       "      <td>ROWY</td>\n",
       "      <td>DE JESUS VASQUEZ</td>\n",
       "      <td>NaN</td>\n",
       "      <td>12/31/2041</td>\n",
       "      <td>Black</td>\n",
       "      <td>NaN</td>\n",
       "      <td>Male</td>\n",
       "      <td>66506</td>\n",
       "      <td>39.673851</td>\n",
       "      <td>-79.498826</td>\n",
       "      <td>1640 Sky View Dr, Bruceton Mills, WV 26525, USA</td>\n",
       "      <td>WV</td>\n",
       "      <td>North</td>\n",
       "      <td>East</td>\n",
       "    </tr>\n",
       "    <tr>\n",
       "      <th>360650</th>\n",
       "      <td>NaN</td>\n",
       "      <td>38.0</td>\n",
       "      <td>ALP</td>\n",
       "      <td>Allenwood</td>\n",
       "      <td>USP</td>\n",
       "      <td>03601-007</td>\n",
       "      <td>WILLIAM</td>\n",
       "      <td>BLACK</td>\n",
       "      <td>R</td>\n",
       "      <td>12/31/2035</td>\n",
       "      <td>Black</td>\n",
       "      <td>NaN</td>\n",
       "      <td>Male</td>\n",
       "      <td>3601</td>\n",
       "      <td>41.132519</td>\n",
       "      <td>-76.925186</td>\n",
       "      <td>Main Access Rd, Allenwood, PA 17810, USA</td>\n",
       "      <td>PA</td>\n",
       "      <td>North</td>\n",
       "      <td>East</td>\n",
       "    </tr>\n",
       "    <tr>\n",
       "      <th>334122</th>\n",
       "      <td>NaN</td>\n",
       "      <td>49.0</td>\n",
       "      <td>FTD</td>\n",
       "      <td>Fort Dix</td>\n",
       "      <td>FCI</td>\n",
       "      <td>17830-069</td>\n",
       "      <td>JOEL</td>\n",
       "      <td>RIVERA-ALEJANDRO</td>\n",
       "      <td>NaN</td>\n",
       "      <td>12/31/2034</td>\n",
       "      <td>White</td>\n",
       "      <td>NaN</td>\n",
       "      <td>Male</td>\n",
       "      <td>17830</td>\n",
       "      <td>39.998655</td>\n",
       "      <td>-74.613599</td>\n",
       "      <td>5756 Hartford St &amp; Pointville Road, Fort Dix, ...</td>\n",
       "      <td>NJ</td>\n",
       "      <td>North</td>\n",
       "      <td>East</td>\n",
       "    </tr>\n",
       "    <tr>\n",
       "      <th>291635</th>\n",
       "      <td>NaN</td>\n",
       "      <td>51.0</td>\n",
       "      <td>BML</td>\n",
       "      <td>Beaumont Low</td>\n",
       "      <td>FCI</td>\n",
       "      <td>60227-080</td>\n",
       "      <td>SEDRIC</td>\n",
       "      <td>THOMPSON</td>\n",
       "      <td>BARSHEA</td>\n",
       "      <td>12/31/2034</td>\n",
       "      <td>Black</td>\n",
       "      <td>NaN</td>\n",
       "      <td>Male</td>\n",
       "      <td>60227</td>\n",
       "      <td>29.964945</td>\n",
       "      <td>-94.076452</td>\n",
       "      <td>Beaumont, TX 77705, USA</td>\n",
       "      <td>TX</td>\n",
       "      <td>South</td>\n",
       "      <td>West</td>\n",
       "    </tr>\n",
       "    <tr>\n",
       "      <th>240982</th>\n",
       "      <td>NaN</td>\n",
       "      <td>31.0</td>\n",
       "      <td>YAM</td>\n",
       "      <td>Yazoo City Medium</td>\n",
       "      <td>FCI</td>\n",
       "      <td>11104-010</td>\n",
       "      <td>LEE</td>\n",
       "      <td>GARCIA</td>\n",
       "      <td>ROY</td>\n",
       "      <td>12/31/2033</td>\n",
       "      <td>White</td>\n",
       "      <td>NaN</td>\n",
       "      <td>Male</td>\n",
       "      <td>11104</td>\n",
       "      <td>32.884262</td>\n",
       "      <td>-90.436989</td>\n",
       "      <td>2225 Haley Barbour Pkwy, Yazoo City, MS 39194,...</td>\n",
       "      <td>MS</td>\n",
       "      <td>South</td>\n",
       "      <td>West</td>\n",
       "    </tr>\n",
       "  </tbody>\n",
       "</table>\n",
       "</div>"
      ],
      "text/plain": [
       "       actRelDate   age faclCode           faclName faclType  inmateNum  \\\n",
       "316592        NaN  29.0      HAZ           Hazelton      USP  66506-018   \n",
       "360650        NaN  38.0      ALP          Allenwood      USP  03601-007   \n",
       "334122        NaN  49.0      FTD           Fort Dix      FCI  17830-069   \n",
       "291635        NaN  51.0      BML       Beaumont Low      FCI  60227-080   \n",
       "240982        NaN  31.0      YAM  Yazoo City Medium      FCI  11104-010   \n",
       "\n",
       "       nameFirst          nameLast nameMiddle projRelDate   race releaseCode  \\\n",
       "316592      ROWY  DE JESUS VASQUEZ        NaN  12/31/2041  Black         NaN   \n",
       "360650   WILLIAM             BLACK          R  12/31/2035  Black         NaN   \n",
       "334122      JOEL  RIVERA-ALEJANDRO        NaN  12/31/2034  White         NaN   \n",
       "291635    SEDRIC          THOMPSON    BARSHEA  12/31/2034  Black         NaN   \n",
       "240982       LEE            GARCIA        ROY  12/31/2033  White         NaN   \n",
       "\n",
       "         sex  inmateId        lat        lng  \\\n",
       "316592  Male     66506  39.673851 -79.498826   \n",
       "360650  Male      3601  41.132519 -76.925186   \n",
       "334122  Male     17830  39.998655 -74.613599   \n",
       "291635  Male     60227  29.964945 -94.076452   \n",
       "240982  Male     11104  32.884262 -90.436989   \n",
       "\n",
       "                                                  address state orientation_y  \\\n",
       "316592    1640 Sky View Dr, Bruceton Mills, WV 26525, USA    WV         North   \n",
       "360650           Main Access Rd, Allenwood, PA 17810, USA    PA         North   \n",
       "334122  5756 Hartford St & Pointville Road, Fort Dix, ...    NJ         North   \n",
       "291635                            Beaumont, TX 77705, USA    TX         South   \n",
       "240982  2225 Haley Barbour Pkwy, Yazoo City, MS 39194,...    MS         South   \n",
       "\n",
       "       orientation_x  \n",
       "316592          East  \n",
       "360650          East  \n",
       "334122          East  \n",
       "291635          West  \n",
       "240982          West  "
      ]
     },
     "execution_count": 8,
     "metadata": {},
     "output_type": "execute_result"
    }
   ],
   "source": [
    "releasing_df.sort_values('projRelDate', ascending=False).head()"
   ]
  },
  {
   "cell_type": "code",
   "execution_count": 81,
   "metadata": {},
   "outputs": [
    {
     "name": "stderr",
     "output_type": "stream",
     "text": [
      "/home/ec2-user/anaconda3/envs/pytorch_p36/lib/python3.6/site-packages/ipykernel/__main__.py:2: SettingWithCopyWarning: \n",
      "A value is trying to be set on a copy of a slice from a DataFrame.\n",
      "Try using .loc[row_indexer,col_indexer] = value instead\n",
      "\n",
      "See the caveats in the documentation: http://pandas.pydata.org/pandas-docs/stable/indexing.html#indexing-view-versus-copy\n",
      "  from ipykernel import kernelapp as app\n"
     ]
    }
   ],
   "source": [
    "releasing_df['daysUntilRelease'] = releasing_df['projRelDate'].apply(\n",
    "    lambda x: np.clip((datetime.datetime.strptime(x, '%m/%d/%Y') - today).days, 0, 1e6)\n",
    ")"
   ]
  },
  {
   "cell_type": "code",
   "execution_count": 82,
   "metadata": {},
   "outputs": [
    {
     "data": {
      "text/html": [
       "<div>\n",
       "<style scoped>\n",
       "    .dataframe tbody tr th:only-of-type {\n",
       "        vertical-align: middle;\n",
       "    }\n",
       "\n",
       "    .dataframe tbody tr th {\n",
       "        vertical-align: top;\n",
       "    }\n",
       "\n",
       "    .dataframe thead th {\n",
       "        text-align: right;\n",
       "    }\n",
       "</style>\n",
       "<table border=\"1\" class=\"dataframe\">\n",
       "  <thead>\n",
       "    <tr style=\"text-align: right;\">\n",
       "      <th></th>\n",
       "      <th>actRelDate</th>\n",
       "      <th>age</th>\n",
       "      <th>faclCode</th>\n",
       "      <th>faclName</th>\n",
       "      <th>faclType</th>\n",
       "      <th>inmateNum</th>\n",
       "      <th>nameFirst</th>\n",
       "      <th>nameLast</th>\n",
       "      <th>nameMiddle</th>\n",
       "      <th>projRelDate</th>\n",
       "      <th>...</th>\n",
       "      <th>releaseCode</th>\n",
       "      <th>sex</th>\n",
       "      <th>inmateId</th>\n",
       "      <th>lat</th>\n",
       "      <th>lng</th>\n",
       "      <th>address</th>\n",
       "      <th>state</th>\n",
       "      <th>orientation_y</th>\n",
       "      <th>orientation_x</th>\n",
       "      <th>daysUntilRelease</th>\n",
       "    </tr>\n",
       "  </thead>\n",
       "  <tbody>\n",
       "    <tr>\n",
       "      <th>365420</th>\n",
       "      <td>NaN</td>\n",
       "      <td>66.0</td>\n",
       "      <td>OTV</td>\n",
       "      <td>Otisville</td>\n",
       "      <td>FCI</td>\n",
       "      <td>32610-054</td>\n",
       "      <td>SHOLAM</td>\n",
       "      <td>WEISS</td>\n",
       "      <td>NaN</td>\n",
       "      <td>06/10/2738</td>\n",
       "      <td>...</td>\n",
       "      <td>NaN</td>\n",
       "      <td>Male</td>\n",
       "      <td>32610</td>\n",
       "      <td>41.495560</td>\n",
       "      <td>-74.527494</td>\n",
       "      <td>2 Mile Drive, Otisville, NY 10963, USA</td>\n",
       "      <td>NY</td>\n",
       "      <td>North</td>\n",
       "      <td>East</td>\n",
       "      <td>262106.0</td>\n",
       "    </tr>\n",
       "    <tr>\n",
       "      <th>380372</th>\n",
       "      <td>NaN</td>\n",
       "      <td>65.0</td>\n",
       "      <td>ATW</td>\n",
       "      <td>Atwater</td>\n",
       "      <td>USP</td>\n",
       "      <td>33703-019</td>\n",
       "      <td>MIGUEL</td>\n",
       "      <td>MACIAS</td>\n",
       "      <td>NaN</td>\n",
       "      <td>10/27/2494</td>\n",
       "      <td>...</td>\n",
       "      <td>NaN</td>\n",
       "      <td>Male</td>\n",
       "      <td>33703</td>\n",
       "      <td>37.386069</td>\n",
       "      <td>-120.558576</td>\n",
       "      <td>1 Federal Way, Atwater, CA 95301, USA</td>\n",
       "      <td>CA</td>\n",
       "      <td>North</td>\n",
       "      <td>West</td>\n",
       "      <td>173127.0</td>\n",
       "    </tr>\n",
       "    <tr>\n",
       "      <th>234215</th>\n",
       "      <td>NaN</td>\n",
       "      <td>54.0</td>\n",
       "      <td>TCP</td>\n",
       "      <td>Tucson</td>\n",
       "      <td>USP</td>\n",
       "      <td>27205-001</td>\n",
       "      <td>JAMES</td>\n",
       "      <td>HULSEY</td>\n",
       "      <td>SHAWN</td>\n",
       "      <td>05/14/2419</td>\n",
       "      <td>...</td>\n",
       "      <td>NaN</td>\n",
       "      <td>Male</td>\n",
       "      <td>27205</td>\n",
       "      <td>32.084730</td>\n",
       "      <td>-110.865276</td>\n",
       "      <td>9300 S Wilmot Rd, Tucson, AZ 85756, USA</td>\n",
       "      <td>AZ</td>\n",
       "      <td>South</td>\n",
       "      <td>West</td>\n",
       "      <td>145567.0</td>\n",
       "    </tr>\n",
       "    <tr>\n",
       "      <th>383770</th>\n",
       "      <td>NaN</td>\n",
       "      <td>36.0</td>\n",
       "      <td>ALI</td>\n",
       "      <td>Aliceville</td>\n",
       "      <td>FCI</td>\n",
       "      <td>27201-001</td>\n",
       "      <td>CHRISTINE</td>\n",
       "      <td>MCKIM</td>\n",
       "      <td>STAGGS</td>\n",
       "      <td>07/21/2390</td>\n",
       "      <td>...</td>\n",
       "      <td>NaN</td>\n",
       "      <td>Female</td>\n",
       "      <td>27201</td>\n",
       "      <td>33.176075</td>\n",
       "      <td>-88.192954</td>\n",
       "      <td>11070 AL-14, Aliceville, AL 35442, USA</td>\n",
       "      <td>AL</td>\n",
       "      <td>South</td>\n",
       "      <td>West</td>\n",
       "      <td>135043.0</td>\n",
       "    </tr>\n",
       "    <tr>\n",
       "      <th>325486</th>\n",
       "      <td>NaN</td>\n",
       "      <td>57.0</td>\n",
       "      <td>ALM</td>\n",
       "      <td>Allenwood Medium</td>\n",
       "      <td>FCI</td>\n",
       "      <td>08008-016</td>\n",
       "      <td>JOSEPH</td>\n",
       "      <td>KINARD</td>\n",
       "      <td>NaN</td>\n",
       "      <td>01/13/2295</td>\n",
       "      <td>...</td>\n",
       "      <td>NaN</td>\n",
       "      <td>Male</td>\n",
       "      <td>8008</td>\n",
       "      <td>41.127492</td>\n",
       "      <td>-76.921938</td>\n",
       "      <td>2 US-15, Allenwood, PA 17810, USA</td>\n",
       "      <td>PA</td>\n",
       "      <td>North</td>\n",
       "      <td>East</td>\n",
       "      <td>100156.0</td>\n",
       "    </tr>\n",
       "  </tbody>\n",
       "</table>\n",
       "<p>5 rows × 21 columns</p>\n",
       "</div>"
      ],
      "text/plain": [
       "       actRelDate   age faclCode          faclName faclType  inmateNum  \\\n",
       "365420        NaN  66.0      OTV         Otisville      FCI  32610-054   \n",
       "380372        NaN  65.0      ATW           Atwater      USP  33703-019   \n",
       "234215        NaN  54.0      TCP            Tucson      USP  27205-001   \n",
       "383770        NaN  36.0      ALI        Aliceville      FCI  27201-001   \n",
       "325486        NaN  57.0      ALM  Allenwood Medium      FCI  08008-016   \n",
       "\n",
       "        nameFirst nameLast nameMiddle projRelDate  ... releaseCode     sex  \\\n",
       "365420     SHOLAM    WEISS        NaN  06/10/2738  ...         NaN    Male   \n",
       "380372     MIGUEL   MACIAS        NaN  10/27/2494  ...         NaN    Male   \n",
       "234215      JAMES   HULSEY      SHAWN  05/14/2419  ...         NaN    Male   \n",
       "383770  CHRISTINE    MCKIM     STAGGS  07/21/2390  ...         NaN  Female   \n",
       "325486     JOSEPH   KINARD        NaN  01/13/2295  ...         NaN    Male   \n",
       "\n",
       "       inmateId        lat         lng  \\\n",
       "365420    32610  41.495560  -74.527494   \n",
       "380372    33703  37.386069 -120.558576   \n",
       "234215    27205  32.084730 -110.865276   \n",
       "383770    27201  33.176075  -88.192954   \n",
       "325486     8008  41.127492  -76.921938   \n",
       "\n",
       "                                        address state orientation_y  \\\n",
       "365420   2 Mile Drive, Otisville, NY 10963, USA    NY         North   \n",
       "380372    1 Federal Way, Atwater, CA 95301, USA    CA         North   \n",
       "234215  9300 S Wilmot Rd, Tucson, AZ 85756, USA    AZ         South   \n",
       "383770   11070 AL-14, Aliceville, AL 35442, USA    AL         South   \n",
       "325486        2 US-15, Allenwood, PA 17810, USA    PA         North   \n",
       "\n",
       "       orientation_x daysUntilRelease  \n",
       "365420          East         262106.0  \n",
       "380372          West         173127.0  \n",
       "234215          West         145567.0  \n",
       "383770          West         135043.0  \n",
       "325486          East         100156.0  \n",
       "\n",
       "[5 rows x 21 columns]"
      ]
     },
     "execution_count": 82,
     "metadata": {},
     "output_type": "execute_result"
    }
   ],
   "source": [
    "releasing_df.sort_values('daysUntilRelease', ascending=False).head()"
   ]
  },
  {
   "cell_type": "code",
   "execution_count": 117,
   "metadata": {},
   "outputs": [],
   "source": [
    "releasing_df.to_csv('./releasing_df.csv')"
   ]
  },
  {
   "cell_type": "code",
   "execution_count": 83,
   "metadata": {},
   "outputs": [
    {
     "data": {
      "text/plain": [
       "actRelDate       315563\n",
       "age              385712\n",
       "faclCode         255798\n",
       "faclName         387076\n",
       "faclType         255798\n",
       "inmateNum        387076\n",
       "nameFirst        387076\n",
       "nameLast         387075\n",
       "nameMiddle       176811\n",
       "projRelDate       71513\n",
       "race             387076\n",
       "releaseCode      315563\n",
       "sex              387076\n",
       "inmateId         387076\n",
       "lat              321437\n",
       "lng              321437\n",
       "address          321437\n",
       "state            321437\n",
       "orientation_y    387076\n",
       "orientation_x    387076\n",
       "dtype: int64"
      ]
     },
     "execution_count": 83,
     "metadata": {},
     "output_type": "execute_result"
    }
   ],
   "source": [
    "df.count()"
   ]
  },
  {
   "cell_type": "code",
   "execution_count": 93,
   "metadata": {},
   "outputs": [
    {
     "data": {
      "text/plain": [
       "31219482.0"
      ]
     },
     "execution_count": 93,
     "metadata": {},
     "output_type": "execute_result"
    }
   ],
   "source": [
    "# average sentence left to be served\n",
    "releasing_df['daysUntilRelease'].sum()"
   ]
  },
  {
   "cell_type": "markdown",
   "metadata": {},
   "source": [
    "There are 31,219,482 days left to be served in federal prison. About 85,000 years."
   ]
  },
  {
   "cell_type": "code",
   "execution_count": 94,
   "metadata": {},
   "outputs": [
    {
     "data": {
      "text/plain": [
       "race\n",
       "American Indian    1465.004854\n",
       "Asian              1474.053812\n",
       "Black              1881.807053\n",
       "White              1375.264860\n",
       "Name: daysUntilRelease, dtype: float64"
      ]
     },
     "execution_count": 94,
     "metadata": {},
     "output_type": "execute_result"
    }
   ],
   "source": [
    "releasing_df.groupby('race').mean()['daysUntilRelease']"
   ]
  },
  {
   "cell_type": "markdown",
   "metadata": {},
   "source": [
    "Are these differences statistically significant?"
   ]
  },
  {
   "cell_type": "code",
   "execution_count": null,
   "metadata": {},
   "outputs": [],
   "source": [
    "releasing_df.groupby('sex').mean()['daysUntilRelease']"
   ]
  },
  {
   "cell_type": "code",
   "execution_count": 99,
   "metadata": {},
   "outputs": [
    {
     "data": {
      "text/plain": [
       "<matplotlib.collections.PathCollection at 0x7f69dc042cc0>"
      ]
     },
     "execution_count": 99,
     "metadata": {},
     "output_type": "execute_result"
    },
    {
     "data": {
      "image/png": "[encoded data removed]",
      "text/plain": [
       "<Figure size 432x288 with 1 Axes>"
      ]
     },
     "metadata": {},
     "output_type": "display_data"
    }
   ],
   "source": [
    "plt.scatter(releasing_df.groupby('age').mean()['daysUntilRelease'].index, releasing_df.groupby('age').mean()['daysUntilRelease'])"
   ]
  },
  {
   "cell_type": "code",
   "execution_count": 87,
   "metadata": {},
   "outputs": [
    {
     "data": {
      "text/plain": [
       "state\n",
       "00969     892.714286\n",
       "AL       1795.036585\n",
       "AR       1438.318996\n",
       "AZ       2759.498529\n",
       "CA       1554.003904\n",
       "CO       2132.329073\n",
       "CT       1250.243590\n",
       "FL       1966.093555\n",
       "GA        986.274038\n",
       "HI        248.428571\n",
       "IL       2195.712621\n",
       "IN       2338.042918\n",
       "KS       1110.775000\n",
       "KY       2112.353053\n",
       "LA       2103.421687\n",
       "MA       1838.392857\n",
       "MD        919.587209\n",
       "MI       1173.374648\n",
       "MN       1340.318367\n",
       "MO       2060.476636\n",
       "MS       2055.518349\n",
       "NC       1514.795247\n",
       "NH       1572.559322\n",
       "NJ       1825.535014\n",
       "NY       2649.882143\n",
       "OH       1737.427230\n",
       "OK        963.001832\n",
       "OR        941.440252\n",
       "PA       1853.398833\n",
       "SC       2060.419118\n",
       "SD        917.480000\n",
       "TN       1170.647482\n",
       "TX       1076.147639\n",
       "VA       2567.225722\n",
       "WA        445.153846\n",
       "WI       1289.173913\n",
       "WV       2237.420391\n",
       "Name: daysUntilRelease, dtype: float64"
      ]
     },
     "execution_count": 87,
     "metadata": {},
     "output_type": "execute_result"
    }
   ],
   "source": [
    "releasing_df.groupby('state').mean()['daysUntilRelease']"
   ]
  },
  {
   "cell_type": "code",
   "execution_count": 88,
   "metadata": {},
   "outputs": [
    {
     "data": {
      "text/plain": [
       "orientation_x\n",
       "East    1572.184339\n",
       "West    1485.346870\n",
       "Name: daysUntilRelease, dtype: float64"
      ]
     },
     "execution_count": 88,
     "metadata": {},
     "output_type": "execute_result"
    }
   ],
   "source": [
    "releasing_df.groupby('orientation_x').mean()['daysUntilRelease']"
   ]
  },
  {
   "cell_type": "code",
   "execution_count": 100,
   "metadata": {},
   "outputs": [
    {
     "data": {
      "text/plain": [
       "<matplotlib.collections.PathCollection at 0x7f69dbf9c668>"
      ]
     },
     "execution_count": 100,
     "metadata": {},
     "output_type": "execute_result"
    },
    {
     "data": {
      "image/png": "[encoded data removed]",
      "text/plain": [
       "<Figure size 432x288 with 1 Axes>"
      ]
     },
     "metadata": {},
     "output_type": "display_data"
    }
   ],
   "source": [
    "plt.scatter(releasing_df.groupby('lat').mean()['daysUntilRelease'].index, releasing_df.groupby('lat').mean()['daysUntilRelease'])"
   ]
  },
  {
   "cell_type": "code",
   "execution_count": 89,
   "metadata": {},
   "outputs": [
    {
     "data": {
      "text/plain": [
       "orientation_y\n",
       "North    1854.891194\n",
       "South    1354.595549\n",
       "Name: daysUntilRelease, dtype: float64"
      ]
     },
     "execution_count": 89,
     "metadata": {},
     "output_type": "execute_result"
    }
   ],
   "source": [
    "releasing_df.groupby('orientation_y').mean()['daysUntilRelease']"
   ]
  },
  {
   "cell_type": "code",
   "execution_count": 101,
   "metadata": {},
   "outputs": [
    {
     "data": {
      "text/plain": [
       "<matplotlib.collections.PathCollection at 0x7f69dbf71fd0>"
      ]
     },
     "execution_count": 101,
     "metadata": {},
     "output_type": "execute_result"
    },
    {
     "data": {
      "image/png": "[encoded data removed]",
      "text/plain": [
       "<Figure size 432x288 with 1 Axes>"
      ]
     },
     "metadata": {},
     "output_type": "display_data"
    }
   ],
   "source": [
    "plt.scatter(releasing_df.groupby('lng').mean()['daysUntilRelease'].index, releasing_df.groupby('lng').mean()['daysUntilRelease'])"
   ]
  },
  {
   "cell_type": "code",
   "execution_count": 91,
   "metadata": {},
   "outputs": [
    {
     "data": {
      "text/plain": [
       "faclCode\n",
       "ALD     811.844444\n",
       "ALF    1686.834951\n",
       "ALI    2271.398810\n",
       "ALM    2639.050000\n",
       "ALP    2122.181818\n",
       "ASH    1721.757282\n",
       "ATL    1966.939227\n",
       "ATW    3930.177419\n",
       "BAS    1666.820339\n",
       "BEC    1723.046296\n",
       "BEN    1914.350427\n",
       "BER    1572.559322\n",
       "BIG    1756.102564\n",
       "BML    1509.568323\n",
       "BMM    1129.167939\n",
       "BMP    2106.289855\n",
       "BRO    1594.657895\n",
       "BRY    1039.508772\n",
       "BSC     441.308550\n",
       "BSF     481.451505\n",
       "BSY    1803.991150\n",
       "BTF    2209.169643\n",
       "BUF    1695.178571\n",
       "BUH    2271.568966\n",
       "BUT    1198.411765\n",
       "CAA    4018.272727\n",
       "CAT     176.507042\n",
       "CBR     358.414286\n",
       "CCC    1640.000000\n",
       "CCH     224.333333\n",
       "          ...     \n",
       "REE     656.807339\n",
       "RIV    1099.390977\n",
       "RVS     451.434343\n",
       "SAF    1375.538012\n",
       "SCH    1122.086207\n",
       "SDC     395.709677\n",
       "SEA    1756.553299\n",
       "SET     226.027778\n",
       "SHE     941.440252\n",
       "SPG    2855.400000\n",
       "SST    1308.050633\n",
       "TAL    1599.961538\n",
       "TCN    2655.760000\n",
       "TCP    7606.540984\n",
       "TDG    2440.590164\n",
       "TEX    1774.620000\n",
       "THA    1511.961165\n",
       "THP    2992.553846\n",
       "TOM    3389.310606\n",
       "TRM    1271.046729\n",
       "TRV    1105.227941\n",
       "VIM    1417.859649\n",
       "VIP    2747.784810\n",
       "VVM    1359.746154\n",
       "WAS    1698.250000\n",
       "WIL    2117.024000\n",
       "YAM    2183.994118\n",
       "YAN     917.480000\n",
       "YAP    2804.263736\n",
       "YAZ    1541.365714\n",
       "Name: daysUntilRelease, Length: 155, dtype: float64"
      ]
     },
     "execution_count": 91,
     "metadata": {},
     "output_type": "execute_result"
    }
   ],
   "source": [
    "releasing_df.groupby('faclCode').mean()['daysUntilRelease']"
   ]
  },
  {
   "cell_type": "code",
   "execution_count": 92,
   "metadata": {},
   "outputs": [
    {
     "data": {
      "text/plain": [
       "<seaborn.axisgrid.FacetGrid at 0x7f69dc215198>"
      ]
     },
     "execution_count": 92,
     "metadata": {},
     "output_type": "execute_result"
    },
    {
     "data": {
      "image/png": "[encoded data removed]",
      "text/plain": [
       "<Figure size 360x360 with 1 Axes>"
      ]
     },
     "metadata": {},
     "output_type": "display_data"
    }
   ],
   "source": [
    "sns.displot(releasing_df.groupby('faclCode').sum()['daysUntilRelease'] / releasing_df.groupby('faclCode').count()['daysUntilRelease'], bins=155)"
   ]
  },
  {
   "cell_type": "code",
   "execution_count": 113,
   "metadata": {},
   "outputs": [
    {
     "data": {
      "text/plain": [
       "<seaborn.axisgrid.FacetGrid at 0x7f69db794d30>"
      ]
     },
     "execution_count": 113,
     "metadata": {},
     "output_type": "execute_result"
    },
    {
     "data": {
      "image/png": "[encoded data removed]",
      "text/plain": [
       "<Figure size 360x360 with 1 Axes>"
      ]
     },
     "metadata": {},
     "output_type": "display_data"
    }
   ],
   "source": [
    "sns.displot(releasing_df.groupby('faclCode').count()['inmateId'], bins=155)"
   ]
  },
  {
   "cell_type": "code",
   "execution_count": null,
   "metadata": {},
   "outputs": [],
   "source": [
    "sns.displot(releasing_df.groupby('faclCode').sum()['daysUntilRelease'] / releasing_df.groupby('faclCode').count()['daysUntilRelease'], bins=155)"
   ]
  }
 ],
 "metadata": {
  "kernelspec": {
   "display_name": "conda_pytorch_p36",
   "language": "python",
   "name": "conda_pytorch_p36"
  },
  "language_info": {
   "codemirror_mode": {
    "name": "ipython",
    "version": 3
   },
   "file_extension": ".py",
   "mimetype": "text/x-python",
   "name": "python",
   "nbconvert_exporter": "python",
   "pygments_lexer": "ipython3",
   "version": "3.6.5"
  }
 },
 "nbformat": 4,
 "nbformat_minor": 4
}
