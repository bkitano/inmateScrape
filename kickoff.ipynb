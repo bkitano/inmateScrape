{
 "cells": [
  {
   "cell_type": "markdown",
   "metadata": {},
   "source": [
    "# Guess batching and SQS kickoff"
   ]
  },
  {
   "cell_type": "markdown",
   "metadata": {},
   "source": [
    "This notebook kicks off the scrape by creating all the SQS messages containing the guess ranges, which then trigger the Lambda function calls."
   ]
  },
  {
   "cell_type": "code",
   "execution_count": 2,
   "metadata": {},
   "outputs": [],
   "source": [
    "import requests\n",
    "import time\n",
    "\n",
    "# to test the lambda function via an http trigger\n",
    "endpoint = \"https://cwuo75bqj2.execute-api.us-east-2.amazonaws.com/default/guessInmate\"\n",
    "\n",
    "params = {\n",
    "        'inmateMin': 100201,\n",
    "        'inmateMax': 100300,\n",
    "        'regionNum': 1000\n",
    "    }\n",
    "\n",
    "response = requests.get(endpoint, params)\n"
   ]
  },
  {
   "cell_type": "code",
   "execution_count": 3,
   "metadata": {},
   "outputs": [],
   "source": [
    "import random\n",
    "import string\n",
    "import json\n",
    "\n",
    "def get_random_alphanumeric_string(stringLength=8):\n",
    "    lettersAndDigits = string.ascii_letters + string.digits\n",
    "    return ''.join((random.choice(lettersAndDigits) for i in range(stringLength)))"
   ]
  },
  {
   "cell_type": "markdown",
   "metadata": {},
   "source": [
    "Now, we'll generate SQS messages. Each SQS message contains an ID as required by `boto3`, and a MessageBody which tells the Lambda function which range of inmate registry numbers to validate."
   ]
  },
  {
   "cell_type": "code",
   "execution_count": 4,
   "metadata": {},
   "outputs": [],
   "source": [
    "batchSize = 100\n",
    "\n",
    "batches = [\n",
    "    {\n",
    "        \"Id\": get_random_alphanumeric_string(12),\n",
    "        \"MessageBody\" : json.dumps({\n",
    "            \"inmateMin\": inmateNum,\n",
    "            \"inmateMax\": inmateNum + batchSize,\n",
    "            \"regionNum\": regionNum\n",
    "        })\n",
    "    }\n",
    "    for regionNum in range(1000, 2000)\n",
    "    for inmateNum in range(100000, 200000, batchSize)\n",
    "]"
   ]
  },
  {
   "cell_type": "code",
   "execution_count": 6,
   "metadata": {},
   "outputs": [],
   "source": [
    "test_batch = batches[0]"
   ]
  },
  {
   "cell_type": "code",
   "execution_count": 7,
   "metadata": {},
   "outputs": [
    {
     "data": {
      "text/plain": [
       "{'Id': 'M197W7sYaKo3',\n",
       " 'MessageBody': '{\"inmateMin\": 100000, \"inmateMax\": 100100, \"regionNum\": 1000}'}"
      ]
     },
     "execution_count": 7,
     "metadata": {},
     "output_type": "execute_result"
    }
   ],
   "source": [
    "test_batch"
   ]
  },
  {
   "cell_type": "code",
   "execution_count": 9,
   "metadata": {},
   "outputs": [],
   "source": [
    "import boto3\n",
    "sqs = boto3.client('sqs')\n",
    "dir(sqs)\n",
    "\n",
    "queueUrl = \"https://us-east-2.queue.amazonaws.com/712505641269/inmateBatching\""
   ]
  },
  {
   "cell_type": "markdown",
   "metadata": {},
   "source": [
    "This next block actually sends off all the batches to SQS."
   ]
  },
  {
   "cell_type": "code",
   "execution_count": 10,
   "metadata": {},
   "outputs": [
    {
     "data": {
      "text/plain": [
       "{'Successful': [{'Id': 'QfJjBjODOuZS',\n",
       "   'MessageId': '9c9197aa-9e4a-45c6-b582-1276d0f7f78d',\n",
       "   'MD5OfMessageBody': 'd2079e25138cd69a2cf8390ddaf05e53'}],\n",
       " 'ResponseMetadata': {'RequestId': '78c02750-327d-5c5f-9c84-7020e0ba9ec0',\n",
       "  'HTTPStatusCode': 200,\n",
       "  'HTTPHeaders': {'x-amzn-requestid': '78c02750-327d-5c5f-9c84-7020e0ba9ec0',\n",
       "   'date': 'Sat, 27 Jun 2020 04:52:23 GMT',\n",
       "   'content-type': 'text/xml',\n",
       "   'content-length': '478'},\n",
       "  'RetryAttempts': 0}}"
      ]
     },
     "execution_count": 10,
     "metadata": {},
     "output_type": "execute_result"
    }
   ],
   "source": [
    "sqs.send_message_batch(QueueUrl=queueUrl, Entries=[test_batch])"
   ]
  },
  {
   "cell_type": "code",
   "execution_count": 11,
   "metadata": {},
   "outputs": [],
   "source": [
    "for i in range(1, len(batches), 10):\n",
    "    sqs.send_message_batch(QueueUrl=queueUrl, Entries=batches[i:i+10])"
   ]
  },
  {
   "cell_type": "code",
   "execution_count": null,
   "metadata": {},
   "outputs": [],
   "source": []
  }
 ],
 "metadata": {
  "kernelspec": {
   "display_name": "conda_python3",
   "language": "python",
   "name": "conda_python3"
  },
  "language_info": {
   "codemirror_mode": {
    "name": "ipython",
    "version": 3
   },
   "file_extension": ".py",
   "mimetype": "text/x-python",
   "name": "python",
   "nbconvert_exporter": "python",
   "pygments_lexer": "ipython3",
   "version": "3.6.5"
  }
 },
 "nbformat": 4,
 "nbformat_minor": 4
}
